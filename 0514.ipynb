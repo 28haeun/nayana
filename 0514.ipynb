{
  "nbformat": 4,
  "nbformat_minor": 0,
  "metadata": {
    "colab": {
      "name": "0514",
      "version": "0.3.2",
      "provenance": [],
      "include_colab_link": true
    },
    "kernelspec": {
      "name": "python3",
      "display_name": "Python 3"
    }
  },
  "cells": [
    {
      "cell_type": "markdown",
      "metadata": {
        "id": "view-in-github",
        "colab_type": "text"
      },
      "source": [
        "<a href=\"https://colab.research.google.com/github/28haeun/nayana/blob/master/0514.ipynb\" target=\"_parent\"><img src=\"https://colab.research.google.com/assets/colab-badge.svg\" alt=\"Open In Colab\"/></a>"
      ]
    },
    {
      "cell_type": "code",
      "metadata": {
        "id": "0H-kB7xB7tLS",
        "colab_type": "code",
        "colab": {}
      },
      "source": [
        "word_ls = ['원숭이', '바나나', '사과']"
      ],
      "execution_count": 0,
      "outputs": []
    },
    {
      "cell_type": "code",
      "metadata": {
        "id": "iTvKpI28Xs3i",
        "colab_type": "code",
        "colab": {}
      },
      "source": [
        "from collections import defaultdict\n",
        "import numpy as np\n",
        "\n",
        "def one_hot_encode(word_ls):\n",
        "  word2idx_dic = defaultdict(lambda: len(word2idx_dic))\n",
        "  \n",
        "  for word in word_ls:\n",
        "    word2idx_dic[word]\n",
        "    \n",
        "    n_unique_words = len(word2idx_dic)\n",
        "    one_hot_vectors = np.zeros((len(word_ls), n_unique_words))\n",
        "    \n",
        "    for i, word in enumerate(word_ls):\n",
        "      index = word2idx_dic[word]\n",
        "      one_hot_vectors[i,index] += 1 \n",
        "      \n",
        "      return on_hot_vectors\n"
      ],
      "execution_count": 0,
      "outputs": []
    },
    {
      "cell_type": "code",
      "metadata": {
        "id": "-5D7AmwWYDpI",
        "colab_type": "code",
        "colab": {}
      },
      "source": [
        "from numpy import array\n",
        "from numpy import argmax\n",
        "from sklearn.preprocessing import LabelEncoder\n",
        "from sklearn.preprocessing import OneHotEncoder"
      ],
      "execution_count": 0,
      "outputs": []
    },
    {
      "cell_type": "code",
      "metadata": {
        "id": "qalJpMajYMhd",
        "colab_type": "code",
        "colab": {
          "base_uri": "https://localhost:8080/",
          "height": 35
        },
        "outputId": "62ce7062-ffe7-4617-f15e-b470a76e0017"
      },
      "source": [
        "values = array(word_ls)\n",
        "print(values)"
      ],
      "execution_count": 5,
      "outputs": [
        {
          "output_type": "stream",
          "text": [
            "['원숭이' '바나나' '사과']\n"
          ],
          "name": "stdout"
        }
      ]
    },
    {
      "cell_type": "code",
      "metadata": {
        "id": "WvdCwVnuBefv",
        "colab_type": "code",
        "colab": {
          "base_uri": "https://localhost:8080/",
          "height": 35
        },
        "outputId": "7a6c0f15-8054-4619-b7f0-fc216c5ad1f5"
      },
      "source": [
        "label_enc = LabelEncoder()\n",
        "int_enc = label_enc.fit_transform(values)\n",
        "print(int_enc)"
      ],
      "execution_count": 7,
      "outputs": [
        {
          "output_type": "stream",
          "text": [
            "[2 0 1]\n"
          ],
          "name": "stdout"
        }
      ]
    },
    {
      "cell_type": "code",
      "metadata": {
        "id": "mP23XeYjBrDH",
        "colab_type": "code",
        "colab": {
          "base_uri": "https://localhost:8080/",
          "height": 109
        },
        "outputId": "d6c84683-660e-4723-aebe-2c2d894b72fe"
      },
      "source": [
        "onehot_enc = OneHotEncoder(sparse = False)\n",
        "int_enc = int_enc.reshape(len(int_enc),1)\n",
        "onehot_enc = onehot_enc.fit_transform(int_enc)"
      ],
      "execution_count": 11,
      "outputs": [
        {
          "output_type": "stream",
          "text": [
            "/usr/local/lib/python3.6/dist-packages/sklearn/preprocessing/_encoders.py:371: FutureWarning: The handling of integer data will change in version 0.22. Currently, the categories are determined based on the range [0, max(values)], while in the future they will be determined based on the unique values.\n",
            "If you want the future behaviour and silence this warning, you can specify \"categories='auto'\".\n",
            "In case you used a LabelEncoder before this OneHotEncoder to convert the categories to integers, then you can now use the OneHotEncoder directly.\n",
            "  warnings.warn(msg, FutureWarning)\n"
          ],
          "name": "stderr"
        }
      ]
    },
    {
      "cell_type": "code",
      "metadata": {
        "id": "2lqngotvCBh7",
        "colab_type": "code",
        "colab": {
          "base_uri": "https://localhost:8080/",
          "height": 35
        },
        "outputId": "ee989096-cf60-4d0c-a6da-f415794ad9ba"
      },
      "source": [
        "inverted = label_enc.inverse_transform([argmax(onehot_enc[0,:])])\n",
        "print(inverted)"
      ],
      "execution_count": 17,
      "outputs": [
        {
          "output_type": "stream",
          "text": [
            "['원숭이']\n"
          ],
          "name": "stdout"
        }
      ]
    },
    {
      "cell_type": "code",
      "metadata": {
        "id": "pB-3Uf5IK__a",
        "colab_type": "code",
        "colab": {}
      },
      "source": [
        "#점의 좌표 설명\n",
        "\n",
        "word_embedding_dic = {\n",
        "    '사과' : [1.0, 0.5],\n",
        "    '바나나' : [0.9, 1.2],\n",
        "    '원숭이' : [0.5, 1.5]\n",
        "}"
      ],
      "execution_count": 0,
      "outputs": []
    },
    {
      "cell_type": "code",
      "metadata": {
        "id": "kd6qM3fzCVwY",
        "colab_type": "code",
        "colab": {
          "base_uri": "https://localhost:8080/",
          "height": 35
        },
        "outputId": "650bbaad-918d-4279-8d1f-df062821bcc8"
      },
      "source": [
        "#두 요소 간의 거리를 계산하는 방법\n",
        "\n",
        "import numpy as np\n",
        "def euclidean_dist(x,y):\n",
        "  x = np.array(x)\n",
        "  y = np.array(y)\n",
        "  return np.sqrt(np.sum(x-y)**2)\n",
        "\n",
        "euclidean_dist(word_embedding_dic['사과'], word_embedding_dic['바나나'])"
      ],
      "execution_count": 24,
      "outputs": [
        {
          "output_type": "execute_result",
          "data": {
            "text/plain": [
              "0.6"
            ]
          },
          "metadata": {
            "tags": []
          },
          "execution_count": 24
        }
      ]
    },
    {
      "cell_type": "code",
      "metadata": {
        "id": "otVWyleAK2uH",
        "colab_type": "code",
        "colab": {}
      },
      "source": [
        ""
      ],
      "execution_count": 0,
      "outputs": []
    }
  ]
}