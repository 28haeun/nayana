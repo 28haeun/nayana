{
  "nbformat": 4,
  "nbformat_minor": 0,
  "metadata": {
    "colab": {
      "name": "0513",
      "version": "0.3.2",
      "provenance": [],
      "include_colab_link": true
    },
    "kernelspec": {
      "name": "python3",
      "display_name": "Python 3"
    }
  },
  "cells": [
    {
      "cell_type": "markdown",
      "metadata": {
        "id": "view-in-github",
        "colab_type": "text"
      },
      "source": [
        "<a href=\"https://colab.research.google.com/github/28haeun/nayana/blob/master/0513.ipynb\" target=\"_parent\"><img src=\"https://colab.research.google.com/assets/colab-badge.svg\" alt=\"Open In Colab\"/></a>"
      ]
    },
    {
      "cell_type": "code",
      "metadata": {
        "id": "TMwKnYiez2D5",
        "colab_type": "code",
        "colab": {}
      },
      "source": [
        ""
      ],
      "execution_count": 0,
      "outputs": []
    },
    {
      "cell_type": "code",
      "metadata": {
        "id": "VAdDAl230Cy8",
        "colab_type": "code",
        "colab": {}
      },
      "source": [
        "from google.colab import auth\n",
        "auth.authenticate_user()"
      ],
      "execution_count": 0,
      "outputs": []
    },
    {
      "cell_type": "code",
      "metadata": {
        "id": "GvnFEylO0Cyg",
        "colab_type": "code",
        "colab": {}
      },
      "source": [
        "import pandas as pd\n",
        "\n",
        "# https://cloud.google.com/resource-manager/docs/creating-managing-projects\n",
        "project_id = '[your Cloud Platform project ID]'\n",
        "sample_count = 2000\n",
        "row_count = pd.io.gbq.read_gbq('''\n",
        "  SELECT \n",
        "    COUNT(*) as total\n",
        "  FROM [bigquery-public-data:samples.gsod]''', project_id=project_id, verbose=False).total[0]\n",
        "df = pd.io.gbq.read_gbq('''\n",
        "  SELECT\n",
        "    *\n",
        "  FROM\n",
        "    [bigquery-public-data:samples.gsod]\n",
        "  WHERE RAND() < %d/%d\n",
        "''' % (sample_count, row_count), project_id=project_id, verbose=False)\n",
        "print('Full dataset has %d rows' % row_count)"
      ],
      "execution_count": 0,
      "outputs": []
    },
    {
      "cell_type": "code",
      "metadata": {
        "id": "Uh206ePl0CyC",
        "colab_type": "code",
        "colab": {}
      },
      "source": [
        "df.describe()"
      ],
      "execution_count": 0,
      "outputs": []
    }
  ]
}